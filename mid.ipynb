{
 "cells": [
  {
   "cell_type": "code",
   "execution_count": 5,
   "id": "36b60881",
   "metadata": {},
   "outputs": [
    {
     "name": "stdout",
     "output_type": "stream",
     "text": [
      "검색할 동을 입력하시오 : 신림동\n",
      "검색할 동을 입력하시오 : 아름동\n",
      "101\n"
     ]
    }
   ],
   "source": [
    "# 2학년 A 201868009 나기연\n",
    "# 왼편 = 신림동, 오른편 = 아름동\n",
    "# color = steelblue, olive \n",
    "\n",
    "import csv\n",
    "import matplotlib.pyplot as plt\n",
    "\n",
    "f = open('age.csv')\n",
    "data = csv.reader(f)\n",
    "\n",
    "dong_201868009_1 = input('검색할 동을 입력하시오 : ')\n",
    "dong_201868009_2 = input('검색할 동을 입력하시오 : ')\n",
    "\n",
    "result = []\n",
    "result1 = []\n",
    "for row in data:\n",
    "    if dong_201868009_1 in row[0]:\n",
    "        for i in row[3:]:\n",
    "            result.append(-int(i.replace(',','')))\n",
    "            \n",
    "    elif dong_201868009_2 in row[0]:\n",
    "        for i in row[3:]:\n",
    "            result1.append(int(i.replace(',','')))\n",
    "\n",
    "\n",
    "\n",
    "plt.figure(figsize=(10,15))        \n",
    "plt.rc('font', family = 'Malgun Gothic')\n",
    "plt.rcParams['axes.unicode_minus'] = False\n",
    "plt.title('두 지역간 연령별 인구분포 비교')\n",
    "plt.barh(range(101),result, label='신림동', color='steelblue')\n",
    "plt.barh(range(101),result1, label='아름동' , color='olive')\n",
    "plt.legend()\n",
    "plt.show()"
   ]
  },
  {
   "cell_type": "code",
   "execution_count": null,
   "id": "ee89109c",
   "metadata": {},
   "outputs": [],
   "source": []
  }
 ],
 "metadata": {
  "kernelspec": {
   "display_name": "Python 3",
   "language": "python",
   "name": "python3"
  },
  "language_info": {
   "codemirror_mode": {
    "name": "ipython",
    "version": 3
   },
   "file_extension": ".py",
   "mimetype": "text/x-python",
   "name": "python",
   "nbconvert_exporter": "python",
   "pygments_lexer": "ipython3",
   "version": "3.8.8"
  }
 },
 "nbformat": 4,
 "nbformat_minor": 5
}
